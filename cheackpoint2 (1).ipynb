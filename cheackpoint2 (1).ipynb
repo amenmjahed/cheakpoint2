{
  "nbformat": 4,
  "nbformat_minor": 0,
  "metadata": {
    "colab": {
      "name": "cheackpoint2.ipynb",
      "provenance": [],
      "collapsed_sections": []
    },
    "kernelspec": {
      "name": "python3",
      "display_name": "Python 3"
    },
    "language_info": {
      "name": "python"
    }
  },
  "cells": [
    {
      "cell_type": "code",
      "metadata": {
        "id": "cni1uSIyufAI",
        "colab": {
          "base_uri": "https://localhost:8080/"
        },
        "outputId": "252e713b-cbf1-45bb-817c-607794529a53"
      },
      "source": [
        "#question1\n",
        "n=int(input(\"give the number of your eleme\"))\n",
        "my_list = []\n",
        "for i in range(0,n):\n",
        "  my_list.append(int(input(\"give a number\")))\n",
        "s=0\n",
        "for e in my_list:\n",
        "  s=s+e\n",
        "print(\"your list is \",my_list,\"and the sum is\",s)\n"
      ],
      "execution_count": null,
      "outputs": [
        {
          "output_type": "stream",
          "name": "stdout",
          "text": [
            "give the number of your elements3\n",
            "give a number10\n",
            "give a number15\n",
            "give a number30\n",
            "your list is  [10, 15, 30] and the sum is 55\n"
          ]
        }
      ]
    },
    {
      "cell_type": "code",
      "metadata": {
        "colab": {
          "base_uri": "https://localhost:8080/"
        },
        "id": "lin49hCdd_FK",
        "outputId": "6d8e98fa-d2fa-4898-dece-1b5be6d455c8"
      },
      "source": [
        "#question2\n",
        "n=int(input(\"give the number of your tuples\"))\n",
        "mylist =[]\n",
        "for i in range(0,n):\n",
        "  my_tuple=(int(input(\"give a number\")),int(input(\"give the seconde number\")))\n",
        "  mylist.append(my_tuple)\n",
        "  \n",
        "def kakawia(T):\n",
        "  return T[1]\n",
        "mylist.sort(key=kakawia)\n",
        "print(mylist)\n",
        " \n",
        "\n",
        "\n",
        "\n"
      ],
      "execution_count": null,
      "outputs": [
        {
          "output_type": "stream",
          "name": "stdout",
          "text": [
            "give the number of your tuples3\n",
            "give a number2\n",
            "give the seconde number1\n",
            "give a number6\n",
            "give the seconde number3\n",
            "give a number4\n",
            "give the seconde number2\n",
            "[(2, 1), (4, 2), (6, 3)]\n"
          ]
        }
      ]
    },
    {
      "cell_type": "code",
      "metadata": {
        "id": "iGm7wbdK04S2",
        "colab": {
          "base_uri": "https://localhost:8080/"
        },
        "outputId": "a0628a84-5e25-413e-c59c-fb7176822d53"
      },
      "source": [
        "#question3\n",
        "a=int(input(\"give a number for key a \"))\n",
        "b=int(input(\"give a number for key b \"))\n",
        "c=int(input(\"give a number for key c \"))\n",
        "d=int(input(\"give a number for key d \"))\n",
        "d1={\"a\":a,\"b\":b,\"c\":c,\"d\":d}\n",
        "keys=list(d1.keys())\n",
        "a1=int(input(\"give a number for key a1 \"))\n",
        "b1=int(input(\"give a number for key b1\"))\n",
        "c1=int(input(\"give a number for key c1 \"))\n",
        "d0=int(input(\"give a number for key d0 \"))\n",
        "d2={keys[0]:a1,keys[1]:b1,keys[2]:c1,keys[3]:d0}\n",
        "d3={\"a\":a+a1,\"b\":b+b1,\"c\":c+c1,\"d\":d+d0}\n",
        "print(d3)\n",
        "\n"
      ],
      "execution_count": null,
      "outputs": [
        {
          "output_type": "stream",
          "name": "stdout",
          "text": [
            "give a number for key a 100\n",
            "give a number for key b 200\n",
            "give a number for key c 0\n",
            "give a number for key d 500\n",
            "give a number for key a1 200\n",
            "give a number for key b10\n",
            "give a number for key c1 500\n",
            "give a number for key d0 50\n",
            "{'a': 300, 'b': 200, 'c': 500, 'd': 550}\n"
          ]
        }
      ]
    },
    {
      "cell_type": "code",
      "metadata": {
        "colab": {
          "base_uri": "https://localhost:8080/"
        },
        "id": "ZtZwdez-tOJc",
        "outputId": "1c621223-2d55-4190-f58c-4c5503776cc5"
      },
      "source": [
        "#question3\n",
        "dict_1 = {\"a\":100,\"b\":200, \"c\":300}\n",
        "dict_2 = {\"a\":300,\"b\":200, \"d\":400}\n",
        "dict_result = {}\n",
        "dict_1_keys = list(dict_1.keys())\n",
        "dict_2_keys = list(dict_2.keys())\n",
        "all_keys = dict_1_keys + dict_2_keys\n",
        "unique_keys = []\n",
        "for key in all_keys:\n",
        "  if key not in unique_keys:\n",
        "    unique_keys.append(key)\n",
        "for key in unique_keys:\n",
        "  if key in dict_1_keys and key in dict_2_keys :\n",
        "    dict_result[key] = dict_1[key] + dict_2[key]\n",
        "  elif key in dict_1_keys and key  not in dict_2_keys :\n",
        "    dict_result[key] = dict_1[key]\n",
        "  elif key not in dict_1_keys and key in dict_2_keys :\n",
        "    dict_result[key] = dict_2[key]\n",
        "print(dict_result)\n",
        "\n",
        "  \n",
        "\n"
      ],
      "execution_count": null,
      "outputs": [
        {
          "output_type": "stream",
          "name": "stdout",
          "text": [
            "{'a': 400, 'b': 400, 'c': 300, 'd': 400}\n"
          ]
        }
      ]
    },
    {
      "cell_type": "code",
      "metadata": {
        "id": "2rPbjPUX067W",
        "colab": {
          "base_uri": "https://localhost:8080/"
        },
        "outputId": "d76251b3-20b5-4ec2-9839-a595e03bbe83"
      },
      "source": [
        "#question 5\n",
        "from math import floor\n",
        "item1=float(input(\"give your number\"))\n",
        "item2=float(input(\"give your number\"))\n",
        "item3=float(input(\"give your number\"))\n",
        "my_list=[(\"item1\",item1),(\"item2\",item2),(\"item3\",item3)]\n",
        "def kakawia(e):\n",
        "  x = e[1]-floor(e[1])\n",
        "  return x\n",
        "my_list.sort(key=kakawia)\n",
        "print(my_list)\n"
      ],
      "execution_count": null,
      "outputs": [
        {
          "output_type": "stream",
          "name": "stdout",
          "text": [
            "give your number30.2\n",
            "give your number2.14\n",
            "give your number100.7\n",
            "[('item2', 2.14), ('item1', 30.2), ('item3', 100.7)]\n"
          ]
        }
      ]
    },
    {
      "cell_type": "code",
      "metadata": {
        "colab": {
          "base_uri": "https://localhost:8080/"
        },
        "id": "SDR91vDH-i5r",
        "outputId": "d2ca989a-4b9c-4793-984c-8c720cd45ab3"
      },
      "source": [
        "#question 5\n",
        "from math import floor\n",
        "x = 5.55\n",
        "y = floor(x)\n",
        "print(y)"
      ],
      "execution_count": null,
      "outputs": [
        {
          "output_type": "stream",
          "name": "stdout",
          "text": [
            "5\n"
          ]
        }
      ]
    }
  ]
}